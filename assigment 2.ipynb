{
 "cells": [
  {
   "cell_type": "code",
   "execution_count": 1,
   "id": "0ccfc4be-3851-4624-8c0c-2ae39d78b14c",
   "metadata": {},
   "outputs": [],
   "source": [
    "#Q1. How do you comment code in Python? What are the different types of comments?"
   ]
  },
  {
   "cell_type": "code",
   "execution_count": 3,
   "id": "07f18837-f679-498c-8a2a-f190830e1e33",
   "metadata": {},
   "outputs": [],
   "source": [
    "#code- In python to design to under stand a some special language call code and in simple words \"to derive some funtion\""
   ]
  },
  {
   "cell_type": "code",
   "execution_count": 5,
   "id": "2a139e32-e774-4f37-a9cd-a671257d4aeb",
   "metadata": {},
   "outputs": [],
   "source": [
    "#comment - in python some words or line which is under stand for us called comment, and which no contribute in any function in python"
   ]
  },
  {
   "cell_type": "code",
   "execution_count": 6,
   "id": "676b1878-d187-4fe9-8c74-3d0513c02bca",
   "metadata": {},
   "outputs": [
    {
     "name": "stdout",
     "output_type": "stream",
     "text": [
      "Object `variables` not found.\n"
     ]
    }
   ],
   "source": [
    "#Q2. What are variables in Python? How do you declare and assign values to variables?"
   ]
  },
  {
   "cell_type": "code",
   "execution_count": 7,
   "id": "5b18d0d7-43e9-4090-bf2c-f3de5ed6f724",
   "metadata": {},
   "outputs": [],
   "source": [
    "# variable- when we declear some data type or funtion in some special word called variable."
   ]
  },
  {
   "cell_type": "code",
   "execution_count": 8,
   "id": "b778f729-624b-4b10-9e51-8c710c8d434d",
   "metadata": {},
   "outputs": [],
   "source": [
    "#aasigning value in varible ex a is varible, a=10, called assign the value of a is 10"
   ]
  },
  {
   "cell_type": "code",
   "execution_count": 9,
   "id": "90d2e8d5-6b17-4557-84f7-cdb5634f10bc",
   "metadata": {},
   "outputs": [],
   "source": [
    "#Q3. How do you convert one data type to another in Python?"
   ]
  },
  {
   "cell_type": "code",
   "execution_count": 10,
   "id": "c532d6a5-ebf4-4707-b45b-3fd68831331a",
   "metadata": {},
   "outputs": [],
   "source": [
    "# using predefined functions such as float(), int(), str(), "
   ]
  },
  {
   "cell_type": "code",
   "execution_count": 11,
   "id": "0845ec9f-4412-4a3c-a6a1-47ebb3706816",
   "metadata": {},
   "outputs": [],
   "source": [
    "#Q4. How do you write and execute a Python script from the command line?"
   ]
  },
  {
   "cell_type": "code",
   "execution_count": 13,
   "id": "624c98ab-d16f-4303-8ad1-7f947989f633",
   "metadata": {},
   "outputs": [],
   "source": [
    "#write ' python ' keyword before the file name in the command prompt"
   ]
  },
  {
   "cell_type": "code",
   "execution_count": 14,
   "id": "1f06c9f2-f4a8-4484-8910-297545aacd1a",
   "metadata": {},
   "outputs": [],
   "source": [
    "#Q5. Given a list my_list = [1, 2, 3, 4, 5], write the code to slice the list and obtain the sub-list [2, 3].\n"
   ]
  },
  {
   "cell_type": "code",
   "execution_count": 18,
   "id": "0a874d02-64d6-4546-926f-bb5cb976025d",
   "metadata": {},
   "outputs": [],
   "source": [
    "#my_list[1:3]"
   ]
  },
  {
   "cell_type": "code",
   "execution_count": 19,
   "id": "c1707b0d-93dc-402a-b73b-f0072f2efc81",
   "metadata": {},
   "outputs": [],
   "source": [
    "#Q6. What is a complex number in mathematics, and how is it represented in Python?\n"
   ]
  },
  {
   "cell_type": "code",
   "execution_count": 20,
   "id": "69472da6-bd99-47c5-92c2-b01b77ca3d2f",
   "metadata": {},
   "outputs": [],
   "source": [
    "# 3+5j is complex number in python and complex no is some imaginry part in maths"
   ]
  },
  {
   "cell_type": "code",
   "execution_count": 21,
   "id": "1ab46719-343c-4789-b5e1-17b79eb05ca3",
   "metadata": {},
   "outputs": [],
   "source": [
    "#Q7. What is the correct way to declare a variable named age and assign the value 25 to it?\n"
   ]
  },
  {
   "cell_type": "code",
   "execution_count": 22,
   "id": "3ebb0d82-b79f-45d6-83f3-0aed1e86fb0c",
   "metadata": {},
   "outputs": [],
   "source": [
    "#name_age=25"
   ]
  },
  {
   "cell_type": "code",
   "execution_count": 23,
   "id": "75f05ba0-f561-4195-9158-6651efaa3ad2",
   "metadata": {},
   "outputs": [],
   "source": [
    "#Q8. Declare a variable named price and assign the value 9.99 to it. What data type does this variable\n",
    "#belong to?"
   ]
  },
  {
   "cell_type": "code",
   "execution_count": 24,
   "id": "8580d537-9535-4b8c-b061-8b68b19f021f",
   "metadata": {},
   "outputs": [],
   "source": [
    "#price=9.99\n",
    "#data type = type(price)\n",
    "#ans = float"
   ]
  },
  {
   "cell_type": "code",
   "execution_count": 25,
   "id": "165f8812-25bb-4293-b335-d15bd3713256",
   "metadata": {},
   "outputs": [],
   "source": [
    "# Q9. Create a variable named name and assign your full name to it as a string. How would you print the\n",
    "# value of this variable?"
   ]
  },
  {
   "cell_type": "code",
   "execution_count": 26,
   "id": "054c96f4-012f-4c1a-9589-5db2873d4c79",
   "metadata": {},
   "outputs": [],
   "source": [
    "#name= \"rahul bahuguna\"\n",
    "#name = shift+enter = result"
   ]
  },
  {
   "cell_type": "code",
   "execution_count": 27,
   "id": "6affd3fb-3000-4162-bd19-672db293da21",
   "metadata": {},
   "outputs": [],
   "source": [
    "#Q10. Given the string \"Hello, World!\", extract the substring \"World\".\n"
   ]
  },
  {
   "cell_type": "code",
   "execution_count": 28,
   "id": "7dd25175-7210-4b18-8cc5-dc1437acb852",
   "metadata": {},
   "outputs": [],
   "source": [
    "#[7:12]"
   ]
  },
  {
   "cell_type": "code",
   "execution_count": 29,
   "id": "ff1b9139-78c8-4c86-896c-c58d784eb4f9",
   "metadata": {},
   "outputs": [],
   "source": [
    "# Q11. Create a variable named \"is_student\" and assign it a boolean value indicating whether you are\n",
    "# currently a student or not."
   ]
  },
  {
   "cell_type": "code",
   "execution_count": null,
   "id": "0c4e5651-7b15-424c-babb-ca4c0c562158",
   "metadata": {},
   "outputs": [],
   "source": []
  }
 ],
 "metadata": {
  "kernelspec": {
   "display_name": "Python 3 (ipykernel)",
   "language": "python",
   "name": "python3"
  },
  "language_info": {
   "codemirror_mode": {
    "name": "ipython",
    "version": 3
   },
   "file_extension": ".py",
   "mimetype": "text/x-python",
   "name": "python",
   "nbconvert_exporter": "python",
   "pygments_lexer": "ipython3",
   "version": "3.10.8"
  }
 },
 "nbformat": 4,
 "nbformat_minor": 5
}
