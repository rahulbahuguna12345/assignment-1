{
 "cells": [
  {
   "cell_type": "code",
   "execution_count": 1,
   "id": "53a95119-cb14-40af-838f-b947f1abca33",
   "metadata": {},
   "outputs": [],
   "source": [
    "#que 1"
   ]
  },
  {
   "cell_type": "code",
   "execution_count": 2,
   "id": "512f4dab-c63d-43a9-8149-391999877913",
   "metadata": {},
   "outputs": [],
   "source": [
    "#a string"
   ]
  },
  {
   "cell_type": "code",
   "execution_count": 3,
   "id": "4835d641-47fb-4f34-83a0-f8d2407a59d4",
   "metadata": {},
   "outputs": [],
   "source": [
    "a= 'abc'"
   ]
  },
  {
   "cell_type": "code",
   "execution_count": 4,
   "id": "3324e408-00bb-450f-909c-595e27a2de67",
   "metadata": {},
   "outputs": [],
   "source": [
    "#b list"
   ]
  },
  {
   "cell_type": "code",
   "execution_count": 5,
   "id": "48c1bd78-13a7-421c-83f3-cf6651f9b2c9",
   "metadata": {},
   "outputs": [],
   "source": [
    "b=['a' ,'b',5,6]"
   ]
  },
  {
   "cell_type": "code",
   "execution_count": 6,
   "id": "1b0292b4-909b-498a-a1f3-300b9d19b039",
   "metadata": {},
   "outputs": [],
   "source": [
    "#c float"
   ]
  },
  {
   "cell_type": "code",
   "execution_count": 7,
   "id": "11a253b8-b172-46d9-87b1-f65b20124d2b",
   "metadata": {},
   "outputs": [],
   "source": [
    "c = 52.56"
   ]
  },
  {
   "cell_type": "code",
   "execution_count": 8,
   "id": "9fccbbfa-11b9-499e-a3d3-cb3528e8e2cb",
   "metadata": {},
   "outputs": [],
   "source": [
    "#d tupples"
   ]
  },
  {
   "cell_type": "code",
   "execution_count": 9,
   "id": "ff7d6a63-09e7-4a7e-9f83-dc8ecaa21182",
   "metadata": {},
   "outputs": [],
   "source": [
    "d =(1,2,3)"
   ]
  },
  {
   "cell_type": "code",
   "execution_count": null,
   "id": "414cce14-a46d-4e07-92b8-7b77eef5d6c2",
   "metadata": {},
   "outputs": [],
   "source": []
  },
  {
   "cell_type": "code",
   "execution_count": 10,
   "id": "bb4416d2-cf48-46e1-9b92-715e2489e5bb",
   "metadata": {},
   "outputs": [],
   "source": [
    "#que 2\n",
    "#(i) var1 = ‘ ‘\n",
    "# (ii) var2 = ‘[ DS , ML , Python]’\n",
    "# (iii) var3 = [ ‘DS’ , ’ML’ , ‘Python’ ]\n",
    "# (iv) var4 = 1"
   ]
  },
  {
   "cell_type": "code",
   "execution_count": 11,
   "id": "e6b7807a-99b5-44c7-ae04-97144e7bd567",
   "metadata": {},
   "outputs": [],
   "source": [
    "# 1 = str\n",
    "# 2= str\n",
    "# 3= list\n",
    "# 4=int"
   ]
  },
  {
   "cell_type": "code",
   "execution_count": 12,
   "id": "75c43fe1-aa96-42f2-97d0-36afb3a5ea7b",
   "metadata": {},
   "outputs": [],
   "source": [
    "# Q3. Explain the use of the following operators using an example:\n",
    "# (i) /\n",
    "# (ii) %\n",
    "# (iii) //\n",
    "# (iv) **"
   ]
  },
  {
   "cell_type": "code",
   "execution_count": 13,
   "id": "075c5274-c52c-49b1-a0f6-53fbb45f97ef",
   "metadata": {},
   "outputs": [],
   "source": [
    "# 1= divid\n",
    "# 2= reminder\n",
    "# 3=quotient\n",
    "# 4= exponational"
   ]
  },
  {
   "cell_type": "code",
   "execution_count": 14,
   "id": "3f9c8af2-db10-4f7e-b943-5aa8501fd5af",
   "metadata": {},
   "outputs": [],
   "source": [
    "# Q4. Create a list of length 10 of your choice containing multiple types of data. Using for loop print the\n",
    "# element and its data type."
   ]
  },
  {
   "cell_type": "code",
   "execution_count": 15,
   "id": "fb9ffb69-443b-4239-89d7-f764ca834ca2",
   "metadata": {},
   "outputs": [],
   "source": [
    "h= [1,'a' , 5.5, True ,(56), 'abc' , 55,]"
   ]
  },
  {
   "cell_type": "code",
   "execution_count": 16,
   "id": "531697eb-b13a-4a1d-899b-acae0b3ef7af",
   "metadata": {},
   "outputs": [
    {
     "name": "stdout",
     "output_type": "stream",
     "text": [
      "<class 'int'>\n",
      "<class 'str'>\n",
      "<class 'float'>\n",
      "<class 'bool'>\n",
      "<class 'int'>\n",
      "<class 'str'>\n",
      "<class 'int'>\n"
     ]
    },
    {
     "data": {
      "text/plain": [
       "[int, str, float, bool, int, str, int]"
      ]
     },
     "execution_count": 16,
     "metadata": {},
     "output_type": "execute_result"
    }
   ],
   "source": [
    "h1= []\n",
    "for i in h:\n",
    "    print(type(i))\n",
    "    h1.append(type(i))\n",
    "h1"
   ]
  },
  {
   "cell_type": "code",
   "execution_count": 17,
   "id": "b9b35a89-8de8-46fd-b2fe-f3c1a7981f96",
   "metadata": {},
   "outputs": [
    {
     "data": {
      "text/plain": [
       "[int, str, float, bool, int, str, int]"
      ]
     },
     "execution_count": 17,
     "metadata": {},
     "output_type": "execute_result"
    }
   ],
   "source": [
    "h1"
   ]
  },
  {
   "cell_type": "code",
   "execution_count": 18,
   "id": "1daf383b-a69e-47b4-a566-ea58b944075b",
   "metadata": {},
   "outputs": [],
   "source": [
    "# Q5. Using a while loop, verify if the number A is purely divisible by number B and if so then how many\n",
    "# times it can be divisible."
   ]
  },
  {
   "cell_type": "code",
   "execution_count": 19,
   "id": "fd0d5170-521f-4c3f-868d-292afb99ae90",
   "metadata": {},
   "outputs": [
    {
     "name": "stdout",
     "output_type": "stream",
     "text": [
      "a%b is something\n"
     ]
    }
   ],
   "source": [
    "a = 55\n",
    "b= 7\n",
    "while (a>b):\n",
    "    if a/b==0:\n",
    "        print('a/b is done')\n",
    "    elif a//b!=0:\n",
    "        print(f'a%b is something')\n",
    "        break "
   ]
  },
  {
   "cell_type": "code",
   "execution_count": 20,
   "id": "4ccce795-1f04-463b-bfa2-523ca7e6d0cd",
   "metadata": {},
   "outputs": [
    {
     "name": "stdout",
     "output_type": "stream",
     "text": [
      "a/b is done\n"
     ]
    }
   ],
   "source": [
    "a = 69\n",
    "b= 3\n",
    "while (a>b):\n",
    "    if a/b==23:\n",
    "        print('a/b is done')\n",
    "        break\n",
    "    elif a//b!=0:\n",
    "        print(f'a%b is something')\n",
    "        break "
   ]
  },
  {
   "cell_type": "code",
   "execution_count": 21,
   "id": "0baa219e-eacb-4fa5-b548-037d365cd691",
   "metadata": {},
   "outputs": [],
   "source": [
    "# Q6. Create a list containing 25 int type data. Using for loop and if-else condition print if the element is\n",
    "# divisible by 3 or not."
   ]
  },
  {
   "cell_type": "code",
   "execution_count": 12,
   "id": "4b46e631-58b6-4c1f-ae64-634dc51fdc2d",
   "metadata": {},
   "outputs": [],
   "source": [
    "num = list(range(26))"
   ]
  },
  {
   "cell_type": "code",
   "execution_count": 17,
   "id": "6572cb62-537f-47cb-bc9f-34d96a64ceb5",
   "metadata": {},
   "outputs": [
    {
     "ename": "NameError",
     "evalue": "name 'i' is not defined",
     "output_type": "error",
     "traceback": [
      "\u001b[0;31m---------------------------------------------------------------------------\u001b[0m",
      "\u001b[0;31mNameError\u001b[0m                                 Traceback (most recent call last)",
      "Cell \u001b[0;32mIn[17], line 1\u001b[0m\n\u001b[0;32m----> 1\u001b[0m \u001b[38;5;28;01mif\u001b[39;00m \u001b[43mi\u001b[49m \u001b[38;5;129;01min\u001b[39;00m num\u001b[38;5;241m%\u001b[39m\u001b[38;5;241m3\u001b[39m :\n\u001b[1;32m      2\u001b[0m     \u001b[38;5;28mprint\u001b[39m(\u001b[38;5;124m'\u001b[39m\u001b[38;5;124mdasd\u001b[39m\u001b[38;5;124m'\u001b[39m)\n\u001b[1;32m      3\u001b[0m \u001b[38;5;28;01melse\u001b[39;00m:\n",
      "\u001b[0;31mNameError\u001b[0m: name 'i' is not defined"
     ]
    }
   ],
   "source": [
    "if i in num%3 :\n",
    "    print('dasd')\n",
    "else:\n",
    "    print('ds')"
   ]
  },
  {
   "cell_type": "code",
   "execution_count": null,
   "id": "da262eab-57b5-44ab-9c7f-fe0267fbe162",
   "metadata": {},
   "outputs": [],
   "source": []
  }
 ],
 "metadata": {
  "kernelspec": {
   "display_name": "Python 3 (ipykernel)",
   "language": "python",
   "name": "python3"
  },
  "language_info": {
   "codemirror_mode": {
    "name": "ipython",
    "version": 3
   },
   "file_extension": ".py",
   "mimetype": "text/x-python",
   "name": "python",
   "nbconvert_exporter": "python",
   "pygments_lexer": "ipython3",
   "version": "3.10.8"
  }
 },
 "nbformat": 4,
 "nbformat_minor": 5
}
